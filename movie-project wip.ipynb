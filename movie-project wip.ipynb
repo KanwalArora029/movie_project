{
 "cells": [
  {
   "cell_type": "code",
   "execution_count": null,
   "metadata": {},
   "outputs": [],
   "source": [
    "# imdb top 1000 movies urls of all the pages (10)\n",
    "url_temp = 'https://www.imdb.com/search/title/?groups=top_1000&view=simple&sort=user_rating,desc&count=100&start={}&ref_=adv_nxt'\n",
    "urls = []\n",
    "for i in range(1, 1001, 100):\n",
    "    url = url_temp.format(str(i))\n",
    "    urls.append(url)\n",
    "urls"
   ]
  },
  {
   "cell_type": "code",
   "execution_count": null,
   "metadata": {},
   "outputs": [],
   "source": [
    "import requests\n",
    "from bs4 import BeautifulSoup\n",
    "import json"
   ]
  },
  {
   "cell_type": "code",
   "execution_count": null,
   "metadata": {},
   "outputs": [],
   "source": [
    "# function to get page\n",
    "def get_page(url):\n",
    "    page = requests.get(url)\n",
    "    return page"
   ]
  },
  {
   "cell_type": "code",
   "execution_count": null,
   "metadata": {},
   "outputs": [],
   "source": [
    "# function to turn page into html content\n",
    "def turn_to_soup(page):\n",
    "    soup = BeautifulSoup(page.content, 'html.parser')\n",
    "    return soup"
   ]
  },
  {
   "cell_type": "code",
   "execution_count": null,
   "metadata": {},
   "outputs": [],
   "source": [
    "# function to select all movies on the pages\n",
    "def parse_soup(soup):\n",
    "    href_titles = soup.select('div.col-title a')\n",
    "    return href_titles"
   ]
  },
  {
   "cell_type": "code",
   "execution_count": null,
   "metadata": {},
   "outputs": [],
   "source": [
    "# function to get title only from html\n",
    "def get_titles(href_titles):\n",
    "    titles = []\n",
    "    for title in href_titles:\n",
    "        titles.append(title.text)\n",
    "    return titles"
   ]
  },
  {
   "cell_type": "code",
   "execution_count": null,
   "metadata": {
    "scrolled": true
   },
   "outputs": [],
   "source": [
    "# combine functions to iterate through all the page urls\n",
    "all_titles = []\n",
    "\n",
    "for url in urls:\n",
    "    page = get_page(url)\n",
    "    soup = turn_to_soup(page)\n",
    "    href_titles = parse_soup(soup)\n",
    "    titles = get_titles(href_titles)\n",
    "    all_titles.extend(titles)"
   ]
  },
  {
   "cell_type": "code",
   "execution_count": null,
   "metadata": {},
   "outputs": [],
   "source": [
    "all_titles"
   ]
  },
  {
   "cell_type": "code",
   "execution_count": null,
   "metadata": {},
   "outputs": [],
   "source": [
    "# omdb api url with api key\n",
    "api_movie_url = 'http://www.omdbapi.com/?apikey=669a3fed&'\n",
    "\n",
    "# omdb params = title of movie\n",
    "api_movie_params = []\n",
    "for title in all_titles:\n",
    "    api_movie_params.append({'t' : title})"
   ]
  },
  {
   "cell_type": "code",
   "execution_count": null,
   "metadata": {},
   "outputs": [],
   "source": [
    "# function to make api call\n",
    "def movie_call(movie_params):\n",
    "    response = requests.get(api_movie_url, params=movie_params)\n",
    "    movie_data = response.json()\n",
    "    return movie_data"
   ]
  },
  {
   "cell_type": "code",
   "execution_count": null,
   "metadata": {
    "scrolled": true
   },
   "outputs": [],
   "source": [
    "# # try out movie_call function\n",
    "# movie_call(api_movie_params[2])"
   ]
  },
  {
   "cell_type": "code",
   "execution_count": null,
   "metadata": {},
   "outputs": [],
   "source": [
    "# function to parse movie data\n",
    "def parse_movie_data(movie_data):\n",
    "    parsed_movie_data = []\n",
    "    for data in movie_data:\n",
    "        if 'Title' not in data.keys():\n",
    "            data.setdefault('Title', None)\n",
    "        if 'Genre' not in data.keys():\n",
    "            data.setdefault('Genre', None)\n",
    "        if 'Director' not in data.keys():\n",
    "            data.setdefault('Director', None)\n",
    "        if 'Actors' not in data.keys():\n",
    "            data.setdefault('Actors', None)\n",
    "        if 'Metascore' not in data.keys():\n",
    "            data.setdefault('Metascore', None)\n",
    "        if 'imdbRating' not in data.keys():\n",
    "            data.setdefault('imdbRating', None)\n",
    "        if 'imdbID' not in data.keys():\n",
    "            data.setdefault('imdbID', None)\n",
    "        if 'Production' not in data.keys():\n",
    "            data.setdefault('Production', None)\n",
    "        mov_tuple = (data['Title'], data['Genre'], data['Director'], data['Actors'], data['Metascore'], data['imdbRating'], data['imdbID'], data['Production'])\n",
    "        parsed_movie_data.append(mov_tuple)\n",
    "    return parsed_movie_data"
   ]
  },
  {
   "cell_type": "code",
   "execution_count": null,
   "metadata": {},
   "outputs": [],
   "source": [
    "# combine call and parse functions to loop through all movie titles\n",
    "movie_data_total = []\n",
    "for param in api_movie_params:\n",
    "    movie_data = movie_call(param)\n",
    "    movie_data_total.append(movie_data)\n",
    "    parsed_movie_data = parse_movie_data(movie_data_total)"
   ]
  },
  {
   "cell_type": "code",
   "execution_count": null,
   "metadata": {},
   "outputs": [],
   "source": [
    "# # print all parsed movie data\n",
    "# parsed_movie_data"
   ]
  },
  {
   "cell_type": "code",
   "execution_count": 19,
   "metadata": {},
   "outputs": [],
   "source": [
    "import mysql.connector \n",
    "import config\n",
    "\n",
    "cnx = mysql.connector.connect(\n",
    "    host = config.host,\n",
    "    user = config.user,\n",
    "    passwd = config.pw\n",
    ")\n",
    "cursor = cnx.cursor()\n",
    "\n",
    "\n",
    "# # create new DB \n",
    "# cursor.execute(\"CREATE DATABASE movies\")\n",
    "\n",
    "cnx.database = 'movies'"
   ]
  },
  {
   "cell_type": "code",
   "execution_count": null,
   "metadata": {},
   "outputs": [],
   "source": [
    "# create tables for the movies\n",
    "# create_table_all = \"\"\"\n",
    "#     CREATE TABLE movies_all (\n",
    "#     movieID int AUTO_INCREMENT,\n",
    "#     title varchar(255),\n",
    "#     genre varchar(255),\n",
    "#     director varchar(255),\n",
    "#     actors varchar(255),\n",
    "#     metascore FLOAT,\n",
    "#     imdb_rating FLOAT,\n",
    "#     imdbID varchar(255),\n",
    "#     production varchar(255),\n",
    "#     PRIMARY KEY (movieID)\n",
    "#     );\"\"\"\n",
    "\n",
    "# create_table_movies = \"\"\"\n",
    "#     CREATE TABLE movies (\n",
    "#     moviesID int AUTO_INCREMENT,\n",
    "#     title varchar(255),\n",
    "#     genre varchar(255),\n",
    "#     imdbID varchar(255),\n",
    "#     movieID int,\n",
    "#     PRIMARY KEY (moviesID),\n",
    "#     FOREIGN KEY (movieID) REFERENCES movies_all (movieID)\n",
    "#     );\"\"\"\n",
    "\n",
    "# create_table_production = \"\"\"\n",
    "#     CREATE TABLE production (\n",
    "#     productionID int AUTO_INCREMENT,\n",
    "#     director varchar(255),\n",
    "#     actors varchar(255),\n",
    "#     production varchar(255),\n",
    "#     movieID int,\n",
    "#     PRIMARY KEY (productionID),\n",
    "#     FOREIGN KEY (movieID) REFERENCES movies_all (movieID)\n",
    "#     );\"\"\"\n",
    "\n",
    "# create_table_ratings = \"\"\"\n",
    "#     CREATE TABLE ratings (\n",
    "#     ratingsID int AUTO_INCREMENT,\n",
    "#     metascore FLOAT,\n",
    "#     imdb_rating FLOAT,\n",
    "#     movieID int,\n",
    "#     PRIMARY KEY (ratingsID),\n",
    "#     FOREIGN KEY (movieID) REFERENCES movies_all (movieID)\n",
    "#     );\"\"\"\n",
    "\n",
    "# create_table_movies_all2 = \"\"\"\n",
    "#     CREATE TABLE movies_all2 (\n",
    "#     title varchar(100),\n",
    "#     movieID2 int,\n",
    "#     release_date DATE,\n",
    "#     popularity FLOAT,\n",
    "#     budget int,\n",
    "#     genre varchar(100),\n",
    "#     revenue FLOAT,\n",
    "#     vote_avg FLOAT,\n",
    "#     vote_count int,\n",
    "#     imdbID varchar(50)\n",
    "#     );\"\"\""
   ]
  },
  {
   "cell_type": "code",
   "execution_count": null,
   "metadata": {},
   "outputs": [],
   "source": [
    "create_table_movies_master = \"\"\"\n",
    "    CREATE TABLE movies_master (\n",
    "    title varchar(100),\n",
    "    movieID2 int,\n",
    "    release_date DATE,\n",
    "    popularity FLOAT,\n",
    "    budget int,\n",
    "    genre varchar(100),\n",
    "    revenue FLOAT,\n",
    "    vote_avg FLOAT,\n",
    "    vote_count int,\n",
    "    imdbID varchar(50)\n",
    "    );\"\"\""
   ]
  },
  {
   "cell_type": "code",
   "execution_count": null,
   "metadata": {},
   "outputs": [],
   "source": [
    "# # create tables in DB\n",
    "\n",
    "# cursor.execute(create_table_all)\n",
    "# cursor.execute(create_table_movies)\n",
    "# cursor.execute(create_table_production)\n",
    "# cursor.execute(create_table_ratings)\n",
    "# cursor.execute(create_table_movies_all2)"
   ]
  },
  {
   "cell_type": "code",
   "execution_count": null,
   "metadata": {},
   "outputs": [],
   "source": [
    "# write function to input all data into DB\n",
    "\n",
    "insert_all_data = \"\"\"\n",
    "    INSERT INTO movies_all (\n",
    "    title,\n",
    "    genre,\n",
    "    director,\n",
    "    actors,\n",
    "    metascore,\n",
    "    imdb_rating,\n",
    "    imdbID,\n",
    "    production)\n",
    "    VALUES (%s, %s, %s, %s, %s, %s, %s, %s);\"\"\""
   ]
  },
  {
   "cell_type": "code",
   "execution_count": null,
   "metadata": {},
   "outputs": [],
   "source": [
    "# # insert data into all data table\n",
    "# cursor.executemany(insert_all_data, parsed_movie_data)\n",
    "# cnx.commit()"
   ]
  },
  {
   "cell_type": "code",
   "execution_count": null,
   "metadata": {},
   "outputs": [],
   "source": [
    "# write a function to take parsed data and insert it into DB\n",
    "\n",
    "insert_movies = \"\"\"\n",
    "    INSERT INTO movies (\n",
    "    title, genre, imdbID, movieID)\n",
    "    VALUES (%s, %s, %s, %s);\"\"\"\n",
    "\n",
    "insert_production = \"\"\"\n",
    "    INSERT INTO production (\n",
    "    director, actors, production, movieID)\n",
    "    VALUES (%s, %s, %s, %s);\"\"\"\n",
    "\n",
    "insert_ratings = \"\"\"\n",
    "    INSERT INTO ratings (\n",
    "    metascore, imdb_rating, movieID)\n",
    "    VALUES (%s, %s, %s);\"\"\""
   ]
  },
  {
   "cell_type": "code",
   "execution_count": null,
   "metadata": {},
   "outputs": [],
   "source": [
    "# # insert data into movies table\n",
    "# movies_table_data = cursor.execute(\"\"\"SELECT title, genre, imdbID, movieID FROM movies_all;\"\"\")\n",
    "# cursor.executemany(insert_movies, cursor.fetchall())\n",
    "# cnx.commit()"
   ]
  },
  {
   "cell_type": "code",
   "execution_count": null,
   "metadata": {},
   "outputs": [],
   "source": [
    "# # insert data into producion table\n",
    "# production_table_data = cursor.execute(\"\"\"SELECT director, actors, production, movieID FROM movies_all;\"\"\")\n",
    "# cursor.executemany(insert_production, cursor.fetchall())\n",
    "# cnx.commit()"
   ]
  },
  {
   "cell_type": "code",
   "execution_count": null,
   "metadata": {},
   "outputs": [],
   "source": [
    "# # insert data into ratings table\n",
    "# ratings_table_data = cursor.execute(\"\"\"SELECT metascore, imdb_rating, movieID FROM movies_all;\"\"\")\n",
    "# cursor.executemany(insert_ratings, cursor.fetchall())\n",
    "# cnx.commit()"
   ]
  },
  {
   "cell_type": "code",
   "execution_count": 17,
   "metadata": {},
   "outputs": [],
   "source": [
    "import pandas as pd"
   ]
  },
  {
   "cell_type": "code",
   "execution_count": 20,
   "metadata": {},
   "outputs": [],
   "source": [
    "#join master tables\n",
    "cursor.execute(\"\"\"\n",
    "    SELECT *\n",
    "    FROM movies.movies_all a\n",
    "    JOIN movies.movies_all2 b\n",
    "    ON a.imdbID = b.imdbID;\"\"\")\n",
    "\n",
    "#create dataframe for master table\n",
    "movies_all = cursor.fetchall()\n",
    "df = pd.DataFrame(movies_all)\n",
    "df.columns = [i[0] for i in cursor.description]\n",
    "df = df.set_index('movieID')"
   ]
  },
  {
   "cell_type": "code",
   "execution_count": 21,
   "metadata": {},
   "outputs": [],
   "source": [
    "cnx.commit()"
   ]
  },
  {
   "cell_type": "code",
   "execution_count": 26,
   "metadata": {},
   "outputs": [
    {
     "data": {
      "text/plain": [
       "Index(['title', 'genres', 'director', 'actors', 'metascore', 'imdb_rating',\n",
       "       'imdbID', 'production', 'title', 'movieID2', 'release_date',\n",
       "       'popularity', 'budget', 'genre', 'revenue', 'vote_avg', 'vote_count',\n",
       "       'imdbID'],\n",
       "      dtype='object')"
      ]
     },
     "execution_count": 26,
     "metadata": {},
     "output_type": "execute_result"
    }
   ],
   "source": [
    "df.columns"
   ]
  },
  {
   "cell_type": "code",
   "execution_count": null,
   "metadata": {},
   "outputs": [],
   "source": []
  }
 ],
 "metadata": {
  "kernelspec": {
   "display_name": "Python 3",
   "language": "python",
   "name": "python3"
  },
  "language_info": {
   "codemirror_mode": {
    "name": "ipython",
    "version": 3
   },
   "file_extension": ".py",
   "mimetype": "text/x-python",
   "name": "python",
   "nbconvert_exporter": "python",
   "pygments_lexer": "ipython3",
   "version": "3.7.4"
  }
 },
 "nbformat": 4,
 "nbformat_minor": 2
}
